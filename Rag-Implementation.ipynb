{
 "cells": [
  {
   "cell_type": "code",
   "execution_count": 1,
   "id": "c80a93a8",
   "metadata": {},
   "outputs": [
    {
     "name": "stderr",
     "output_type": "stream",
     "text": [
      "[nltk_data] Downloading package punkt to /home/sa/nltk_data...\n",
      "[nltk_data]   Package punkt is already up-to-date!\n",
      "[nltk_data] Downloading package averaged_perceptron_tagger to\n",
      "[nltk_data]     /home/sa/nltk_data...\n",
      "[nltk_data]   Package averaged_perceptron_tagger is already up-to-\n",
      "[nltk_data]       date!\n"
     ]
    },
    {
     "data": {
      "text/plain": [
       "True"
      ]
     },
     "execution_count": 1,
     "metadata": {},
     "output_type": "execute_result"
    }
   ],
   "source": [
    "import nltk\n",
    "nltk.download('punkt')\n",
    "nltk.download('averaged_perceptron_tagger')"
   ]
  },
  {
   "cell_type": "code",
   "execution_count": 1,
   "id": "95862a7f",
   "metadata": {},
   "outputs": [],
   "source": [
    "import os\n",
    "import getpass\n",
    "\n",
    "EMBEDDING_MODEL = \"text-embedding-3-small\"\n",
    "CHAT_MODEL = \"gpt-4o-mini\"   # adjust as desired\n",
    "COLLECTION_NAME = \"adn\"\n",
    "TOP_K = 6\n",
    "FETCH_K = 24\n",
    "\n",
    "os.environ[\"OPENAI_API_KEY\"] = getpass.getpass(\"OpenAI API Key:\")\n",
    "os.environ[\"COHERE_API_KEY\"] = getpass.getpass(\"Cohere API Key:\")"
   ]
  },
  {
   "cell_type": "code",
   "execution_count": 2,
   "id": "976e3146",
   "metadata": {},
   "outputs": [],
   "source": [
    "from langchain_community.document_loaders.csv_loader import CSVLoader\n",
    "from datetime import datetime, timedelta\n",
    "from langchain_core.documents import Document\n",
    "import csv\n",
    "from typing import List\n",
    "\n",
    "def load_csv_with_csvloader(csv_path: str) -> List[Document]:\n",
    "    \"\"\"\n",
    "    Load a CSV into Documents using LangChain's CSVLoader.\n",
    "    page_content := only ['title', 'details'].\n",
    "    All remaining columns preserved as metadata (e.g., id, section, tags, channel_number).\n",
    "    \"\"\"\n",
    "    with open(csv_path, newline=\"\", encoding=\"utf-8-sig\") as f:\n",
    "        cols = csv.DictReader(f).fieldnames or []\n",
    "\n",
    "    content_cols = [c for c in [\"title\", \"details\"] if c in cols]\n",
    "    meta_cols = [c for c in cols if c not in content_cols]\n",
    "    print(f\"content_cols: {content_cols}\")\n",
    "    print(f\"meta_cols: {meta_cols}\")\n",
    "    loader = CSVLoader(\n",
    "        file_path=csv_path,\n",
    "        content_columns=content_cols,\n",
    "        metadata_columns=meta_cols,\n",
    "        encoding=\"utf-8-sig\",\n",
    "        autodetect_encoding=True,\n",
    "    )\n",
    "    return loader.load()\n",
    "\n",
    "# current metadata columns: id,section,subsection,title,details,price_crc,price_text,tags,url,contact_value,channel_number,locale,version\n",
    "loader = CSVLoader(\n",
    "    file_path=f\"./RAG_data/adn_rag_base_full_v1_3.csv\",\n",
    "    metadata_columns=[\n",
    "      \"id\",\n",
    "      \"section\",\n",
    "      \"subsection\",\n",
    "      \"title\",\n",
    "      \"details\",\n",
    "      \"price_crc\",\n",
    "      \"price_text\",\n",
    "      \"tags\",\n",
    "      \"url\",\n",
    "      \"contact_value\",\n",
    "      \"channel_number\",\n",
    "      \"locale\",\n",
    "      \"version\"\n",
    "    ]\n",
    ")\n",
    "\n"
   ]
  },
  {
   "cell_type": "code",
   "execution_count": 3,
   "id": "1b4ad441",
   "metadata": {},
   "outputs": [
    {
     "name": "stdout",
     "output_type": "stream",
     "text": [
      "content_cols: ['title', 'details']\n",
      "meta_cols: ['id', 'section', 'subsection', 'price_crc', 'price_text', 'tags', 'url', 'contact_value', 'channel_number', 'locale', 'version']\n",
      "title: Descripción\n",
      "details: American Data Networks S.A. (ADN) fundada en 2005. Equipo con más de 15 años de experiencia en telecomunicaciones.\n",
      "Enfoque 100 % en calidad de servicio y soporte oportuno. Actualización constante de tecnologías para brindar servicios de clase mundial.\n",
      "Opción de transporte nacional e internacional de alta capacidad de datos en Costa Rica; permite optimizar y expandir redes de forma segura y rápida.\n",
      "{'source': 'RAG_data/adn_rag_base_full_v1_3.csv', 'row': 0, 'id': '2eebd6ef-cd3e-46e4-a268-dd4830bf76aa', 'section': 'Compañía', 'subsection': 'Quiénes Somos', 'price_crc': '', 'price_text': '', 'tags': 'empresa, historia, calidad, telecomunicaciones', 'url': '', 'contact_value': '', 'channel_number': '', 'locale': 'es_CR', 'version': 'v1.3'}\n"
     ]
    }
   ],
   "source": [
    "adn_data = load_csv_with_csvloader(\"RAG_data/adn_rag_base_full_v1_3.csv\")\n",
    "\n",
    "for doc in adn_data:\n",
    "    print(doc.page_content)\n",
    "    print(doc.metadata)\n",
    "    break"
   ]
  },
  {
   "cell_type": "code",
   "execution_count": 4,
   "id": "fdf01a53",
   "metadata": {},
   "outputs": [
    {
     "data": {
      "text/plain": [
       "Document(metadata={'source': 'RAG_data/adn_rag_base_full_v1_3.csv', 'row': 0, 'id': '2eebd6ef-cd3e-46e4-a268-dd4830bf76aa', 'section': 'Compañía', 'subsection': 'Quiénes Somos', 'price_crc': '', 'price_text': '', 'tags': 'empresa, historia, calidad, telecomunicaciones', 'url': '', 'contact_value': '', 'channel_number': '', 'locale': 'es_CR', 'version': 'v1.3'}, page_content='title: Descripción\\ndetails: American Data Networks S.A. (ADN) fundada en 2005. Equipo con más de 15 años de experiencia en telecomunicaciones.\\nEnfoque 100 % en calidad de servicio y soporte oportuno. Actualización constante de tecnologías para brindar servicios de clase mundial.\\nOpción de transporte nacional e internacional de alta capacidad de datos en Costa Rica; permite optimizar y expandir redes de forma segura y rápida.')"
      ]
     },
     "execution_count": 4,
     "metadata": {},
     "output_type": "execute_result"
    }
   ],
   "source": [
    "adn_data[0]"
   ]
  },
  {
   "cell_type": "code",
   "execution_count": 5,
   "id": "06587a65",
   "metadata": {},
   "outputs": [],
   "source": [
    "from langchain_community.vectorstores import Qdrant\n",
    "from langchain_openai import OpenAIEmbeddings\n",
    "\n",
    "embeddings = OpenAIEmbeddings(model=\"text-embedding-3-small\")\n",
    "\n",
    "vectorstore = Qdrant.from_documents(\n",
    "    adn_data,\n",
    "    embeddings,\n",
    "    location=\":memory:\",\n",
    "    collection_name=COLLECTION_NAME\n",
    ")"
   ]
  },
  {
   "cell_type": "code",
   "execution_count": 6,
   "id": "fe044cbe",
   "metadata": {},
   "outputs": [],
   "source": [
    "naive_retriever = vectorstore.as_retriever(search_kwargs={\"k\" : 6})"
   ]
  },
  {
   "cell_type": "code",
   "execution_count": 66,
   "id": "782a5c7c",
   "metadata": {},
   "outputs": [],
   "source": [
    "from langchain_core.prompts import ChatPromptTemplate\n",
    "\n",
    "RAG_TEMPLATE = \"\"\"\\\n",
    "Eres un asistente de soporte que trabaja para American Data Networks. Habla siempre en primera persona como si fueras parte del equipo. Responde SOLO con la información del CONTEXTO proporcionado.\n",
    "Si la pregunta no se encuentra en el contexto proporcionado de American Data Networks, responde: \"No tengo la respuesta a esa pregunta\".\n",
    "Si la pregunta es sobre un producto o servicio que no es de American Data Networks, responde: \"No tenemos información sobre ese producto o servicio\".\n",
    "\n",
    "Responde en el mismo idioma en que se hizo la pregunta.\n",
    "Importante: usa expresiones en primera persona (por ejemplo: “nuestra dirección”, “puedes visitarnos”, “podemos ayudarte”), nunca en tercera persona (“ellos”, “tienen”, “puedes visitarlos”).\n",
    "\n",
    "Query:\n",
    "{question}\n",
    "\n",
    "Context:\n",
    "{context}\n",
    "\"\"\"\n",
    "\n",
    "rag_prompt = ChatPromptTemplate.from_template(RAG_TEMPLATE)"
   ]
  },
  {
   "cell_type": "code",
   "execution_count": 67,
   "id": "5bfc073d",
   "metadata": {},
   "outputs": [],
   "source": [
    "from langchain_openai import ChatOpenAI\n",
    "\n",
    "chat_model = ChatOpenAI(model=\"gpt-4.1-nano\")"
   ]
  },
  {
   "cell_type": "code",
   "execution_count": 68,
   "id": "31eca756",
   "metadata": {},
   "outputs": [],
   "source": [
    "from langchain_core.runnables import RunnablePassthrough\n",
    "from operator import itemgetter\n",
    "from langchain_core.output_parsers import StrOutputParser\n",
    "\n",
    "naive_retrieval_chain = (\n",
    "    # INVOKE CHAIN WITH: {\"question\" : \"<<SOME USER QUESTION>>\"}\n",
    "    # \"question\" : populated by getting the value of the \"question\" key\n",
    "    # \"context\"  : populated by getting the value of the \"question\" key and chaining it into the base_retriever\n",
    "    {\"context\": itemgetter(\"question\") | naive_retriever, \"question\": itemgetter(\"question\")}\n",
    "    # \"context\"  : is assigned to a RunnablePassthrough object (will not be called or considered in the next step)\n",
    "    #              by getting the value of the \"context\" key from the previous step\n",
    "    | RunnablePassthrough.assign(context=itemgetter(\"context\"))\n",
    "    # \"response\" : the \"context\" and \"question\" values are used to format our prompt object and then piped\n",
    "    #              into the LLM and stored in a key called \"response\"\n",
    "    # \"context\"  : populated by getting the value of the \"context\" key from the previous step\n",
    "    | {\"response\": rag_prompt | chat_model, \"context\": itemgetter(\"context\")}\n",
    ")"
   ]
  },
  {
   "cell_type": "code",
   "execution_count": 69,
   "id": "c48bc68d",
   "metadata": {},
   "outputs": [
    {
     "data": {
      "text/plain": [
       "'American Data Networks (ADN) fue fundada en 2005. Somos un equipo con más de 15 años de experiencia en telecomunicaciones, enfocándonos en brindar servicios de calidad, soporte oportuno y actualización constante de tecnologías para ofrecer soluciones de clase mundial.'"
      ]
     },
     "execution_count": 69,
     "metadata": {},
     "output_type": "execute_result"
    }
   ],
   "source": [
    "naive_retrieval_chain.invoke({\"question\" : \"¿Qué es American Data Networks y cuándo fue fundada?\"})[\"response\"].content"
   ]
  },
  {
   "cell_type": "code",
   "execution_count": 70,
   "id": "20394720",
   "metadata": {},
   "outputs": [],
   "source": [
    "from ragas.llms import LangchainLLMWrapper\n",
    "from ragas.embeddings import LangchainEmbeddingsWrapper\n",
    "from langchain_openai import ChatOpenAI\n",
    "from langchain_openai import OpenAIEmbeddings\n",
    "generator_llm = LangchainLLMWrapper(ChatOpenAI(model=\"gpt-4.1\"))\n",
    "generator_embeddings = LangchainEmbeddingsWrapper(OpenAIEmbeddings())"
   ]
  },
  {
   "cell_type": "code",
   "execution_count": 71,
   "id": "0e793448",
   "metadata": {},
   "outputs": [
    {
     "name": "stdout",
     "output_type": "stream",
     "text": [
      "Pregunta: ¿Qué es American Data Networks y cuándo fue fundada?\n",
      "Respuesta LLM: American Data Networks (ADN) fue fundada en 2005. Somos un equipo con más de 15 años de experiencia en telecomunicaciones, enfocados en ofrecer servicios de alta calidad y soporte oportuno, además de mantener una actualización constante en tecnologías para brindar servicios de clase mundial.\n",
      "Contextos recuperados: 6 documentos\n",
      "--------------------------------------------------\n",
      "Pregunta: ¿Cuáles son los planes de Internet residencial disponibles y sus precios?\n",
      "Respuesta LLM: Nuestros planes de Internet residencial disponibles y sus precios son los siguientes:\n",
      "\n",
      "- Plan 100/100 Mbps: ₡20 500 IVI\n",
      "- Plan 250/250 Mbps: ₡26 600 IVI\n",
      "- Plan 500/500 Mbps (más popular): ₡33 410 IVI\n",
      "- Plan 1/1 Gbps: ₡49 500 IVI\n",
      "\n",
      "Todos los planes incluyen equipo Wi-Fi, firewall y soporte 24/7. Si deseas más información o ayudar con alguna de estas opciones, puedo asistirte.\n",
      "Contextos recuperados: 6 documentos\n",
      "--------------------------------------------------\n",
      "Pregunta: ¿Cómo puedo contactar a ADN para soporte técnico?\n",
      "Respuesta LLM: Puedes contactar a nuestro soporte técnico enviando un correo a helpdesk@data.cr. Además, contamos con soporte técnico especializado y disponible 24/7 para atender tus consultas, solicitudes y resolver problemas técnicos.\n",
      "Contextos recuperados: 6 documentos\n",
      "--------------------------------------------------\n",
      "Pregunta: ¿Cuánto tiempo tarda la instalación del servicio de Internet?\n",
      "Respuesta LLM: La instalación del servicio de Internet para planes residenciales se realiza entre 48 y 72 horas posteriores a la compra. La disponibilidad exacta depende de la hora en que completes la compra: si es antes de las 4:00 p. m., la instalación estará lista en 48 horas; si es después de las 4:00 p. m., en 72 horas. Podemos ayudarte a agendar la fecha y hora que prefieras durante el proceso de contratación.\n",
      "Contextos recuperados: 6 documentos\n",
      "--------------------------------------------------\n",
      "Pregunta: ¿Qué servicios empresariales ofrece ADN?\n",
      "Respuesta LLM: En American Data Networks podemos ayudarte con servicios empresariales relacionados con la provisión, mantenimiento y mejora de los servicios de Internet, además de transporte nacional e internacional de alta capacidad de datos en Costa Rica para optimizar y expandir redes de forma segura y rápida.\n",
      "Contextos recuperados: 6 documentos\n",
      "--------------------------------------------------\n"
     ]
    }
   ],
   "source": [
    "from ragas.testset import TestsetGenerator\n",
    "from typing import List\n",
    "\n",
    "generator = TestsetGenerator(llm=generator_llm, embedding_model=generator_embeddings)\n",
    "\n",
    "# Create manual test set with realistic user questions\n",
    "manual_test_set_updated = [\n",
    "    {\n",
    "        \"question\": \"¿Qué es American Data Networks y cuándo fue fundada?\",\n",
    "        \"contexts\": [adn_data[0].page_content],\n",
    "        \"answer\": \"\",\n",
    "        \"ground_truth\": \"American Data Networks S.A. (ADN) es una empresa fundada en 2005 con más de 15 años de experiencia en telecomunicaciones.\"\n",
    "    },\n",
    "    {\n",
    "        \"question\": \"¿Cuáles son los planes de Internet residencial disponibles y sus precios?\",\n",
    "        \"contexts\": [adn_data[15].page_content, adn_data[16].page_content, adn_data[17].page_content, adn_data[18].page_content],\n",
    "        \"answer\": \"\",\n",
    "        \"ground_truth\": \"Los planes residenciales disponibles son: Plan 100/100 Mbps por ₡20 500 IVI, Plan 250/250 Mbps por ₡26 600 IVI, Plan 500/500 Mbps (más popular) por ₡33 410 IVI, y Plan 1/1 Gbps por ₡49 500 IVI. Todos incluyen Equipo Wi-Fi, Firewall y Soporte 24/7.\"\n",
    "    },\n",
    "    {\n",
    "        \"question\": \"¿Cómo puedo contactar a ADN para soporte técnico?\",\n",
    "        \"contexts\": [adn_data[4].page_content, adn_data[5].page_content, adn_data[7].page_content, adn_data[8].page_content],\n",
    "        \"answer\": \"\",\n",
    "        \"ground_truth\": \"Puedes contactar a ADN para soporte técnico por: Teléfono principal +506 4050-5050, WhatsApp +506 7087-8240, correo helpdesk@data.cr, o soporte técnico 24/7 disponible en todo momento.\"\n",
    "    },\n",
    "    {\n",
    "        \"question\": \"¿Cuánto tiempo tarda la instalación del servicio de Internet?\",\n",
    "        \"contexts\": [adn_data[27].page_content],\n",
    "        \"answer\": \"\",\n",
    "        \"ground_truth\": \"Para planes residenciales, la instalación se realiza entre 48 y 72 horas posteriores a la compra. Si la compra es antes de las 4:00 p.m., la instalación está disponible 48 horas después. Si es después de las 4:00 p.m., está disponible 72 horas después.\"\n",
    "    },\n",
    "    {\n",
    "        \"question\": \"¿Qué servicios empresariales ofrece ADN?\",\n",
    "        \"contexts\": [adn_data[33].page_content, adn_data[34].page_content, adn_data[35].page_content, adn_data[36].page_content, adn_data[37].page_content],\n",
    "        \"answer\": \"\",\n",
    "        \"ground_truth\": \"ADN ofrece servicios empresariales como: Fibra Óptica para máxima velocidad y estabilidad, Data center y redes administradas con monitoreo proactivo, Telefonía VoIP con funcionalidades avanzadas, Soporte 24/7 especializado, Seguridad integral contra malware y phishing, y Firewall gestionado con soluciones personalizadas.\"\n",
    "    }\n",
    "]\n",
    "\n",
    "\n",
    "rag_responses = []\n",
    "\n",
    "for item in manual_test_set_updated:\n",
    "    question = item[\"question\"]\n",
    "    \n",
    "    # Usar tu pipeline RAG para generar respuesta real\n",
    "    response = naive_retrieval_chain.invoke({\"question\": question})\n",
    "    \n",
    "    # Actualizar el dataset con la respuesta real del LLM\n",
    "    updated_item = {\n",
    "        \"question\": question,\n",
    "        \"contexts\": [doc.page_content for doc in response['context']],  # Contextos reales recuperados\n",
    "        \"answer\": response['response'].content,  # ← Respuesta real del LLM\n",
    "        \"ground_truth\": item[\"ground_truth\"]  # Mantener ground_truth para comparación\n",
    "    }\n",
    "    \n",
    "    rag_responses.append(updated_item)\n",
    "    \n",
    "    print(f\"Pregunta: {question}\")\n",
    "    print(f\"Respuesta LLM: {response['response'].content}\")\n",
    "    print(f\"Contextos recuperados: {len(response['context'])} documentos\")\n",
    "    print(\"-\" * 50)\n"
   ]
  },
  {
   "cell_type": "code",
   "execution_count": 74,
   "id": "c38bbe9f",
   "metadata": {},
   "outputs": [
    {
     "name": "stdout",
     "output_type": "stream",
     "text": [
      "Test set created with 10 realistic user questions:\n",
      "Dataset shape: (5, 4)\n",
      "\n",
      "Sample questions:\n",
      "1. ¿Qué es American Data Networks y cuándo fue fundada?\n",
      "2. ¿Cuáles son los planes de Internet residencial disponibles y sus precios?\n",
      "3. ¿Cómo puedo contactar a ADN para soporte técnico?\n"
     ]
    }
   ],
   "source": [
    "# Convert to RAGAS Dataset\n",
    "from datasets import Dataset\n",
    "import pandas as pd\n",
    "\n",
    "df = pd.DataFrame(rag_responses)\n",
    "dataset = Dataset.from_pandas(df)\n",
    "\n",
    "print(\"Test set created with 10 realistic user questions:\")\n",
    "print(f\"Dataset shape: {df.shape}\")\n",
    "print(\"\\nSample questions:\")\n",
    "for i, row in df.head(3).iterrows():\n",
    "    print(f\"{i+1}. {row['question']}\")\n"
   ]
  },
  {
   "cell_type": "code",
   "execution_count": 75,
   "id": "6ef78e6a",
   "metadata": {},
   "outputs": [
    {
     "data": {
      "application/vnd.jupyter.widget-view+json": {
       "model_id": "be591186abab4cc8851a7660246fd0da",
       "version_major": 2,
       "version_minor": 0
      },
      "text/plain": [
       "Evaluating:   0%|          | 0/20 [00:00<?, ?it/s]"
      ]
     },
     "metadata": {},
     "output_type": "display_data"
    },
    {
     "name": "stdout",
     "output_type": "stream",
     "text": [
      "Resultados de la evaluación RAGAS:\n",
      "{'faithfulness': 0.8711, 'answer_relevancy': 0.9369, 'context_precision': 0.4000, 'context_recall': 0.6000}\n"
     ]
    }
   ],
   "source": [
    "from ragas import evaluate\n",
    "from ragas.metrics import faithfulness, answer_relevancy, context_precision, context_recall\n",
    "\n",
    "# Definir las métricas que queremos evaluar\n",
    "metrics = [\n",
    "    faithfulness,\n",
    "    answer_relevancy, \n",
    "    context_precision,\n",
    "    context_recall\n",
    "]\n",
    "\n",
    "# Evaluar tu pipeline RAG\n",
    "result = evaluate(\n",
    "    dataset,\n",
    "    metrics=metrics,\n",
    "    llm=generator_llm,  # El mismo LLM que usaste para generar el test set\n",
    "    embeddings=generator_embeddings  # El mismo embedding model\n",
    ")\n",
    "\n",
    "print(\"Resultados de la evaluación RAGAS:\")\n",
    "print(result)"
   ]
  },
  {
   "cell_type": "code",
   "execution_count": 80,
   "id": "cae0dea8",
   "metadata": {},
   "outputs": [
    {
     "name": "stdout",
     "output_type": "stream",
     "text": [
      "\n",
      "RAGAS Results Table:\n",
      "           Metric    Score                                                    Description\n",
      "     Faithfulness 0.871111 Proportion of facts in the response that come from the context\n",
      " Answer Relevancy 0.936899                      Relevance of the response to the question\n",
      "Context Precision 0.400000                             Precision of the retrieved context\n",
      "   Context Recall 0.600000                                   Recovery of relevant context\n",
      "\n",
      "RAGAS Average Score: 0.7020\n",
      "\n",
      "Individual Scores (Raw):\n",
      "faithfulness: None (type: <class 'NoneType'>)\n",
      "answer_relevancy: None (type: <class 'NoneType'>)\n",
      "context_precision: None (type: <class 'NoneType'>)\n",
      "context_recall: None (type: <class 'NoneType'>)\n",
      "\n",
      "Detailed Breakdown by Question:\n",
      "\n",
      "faithfulness: Not available\n",
      "\n",
      "answer_relevancy: Not available\n",
      "\n",
      "context_precision: Not available\n",
      "\n",
      "context_recall: Not available\n"
     ]
    }
   ],
   "source": [
    "import pandas as pd\n",
    "import numpy as np\n",
    "\n",
    "# Helper function to safely calculate average from RAGAS scores\n",
    "def safe_average(score_value):\n",
    "    \"\"\"Calculate average from RAGAS score (handles both numbers and lists).\"\"\"\n",
    "    if score_value is None:\n",
    "        return 0.0\n",
    "    elif isinstance(score_value, (int, float)):\n",
    "        return float(score_value)\n",
    "    elif isinstance(score_value, list):\n",
    "        # Filter out None values and calculate average\n",
    "        valid_scores = [s for s in score_value if s is not None and not np.isnan(s)]\n",
    "        return sum(valid_scores) / len(valid_scores) if valid_scores else 0.0\n",
    "    else:\n",
    "        return 0.0\n",
    "\n",
    "# Convert results to a readable table\n",
    "results_dict = {\n",
    "    'Metric': ['Faithfulness', 'Answer Relevancy', 'Context Precision', 'Context Recall'],\n",
    "    'Score': [\n",
    "        safe_average(result['faithfulness']),\n",
    "        safe_average(result['answer_relevancy']), \n",
    "        safe_average(result['context_precision']),\n",
    "        safe_average(result['context_recall'])\n",
    "    ],\n",
    "    'Description': [\n",
    "        'Proportion of facts in the response that come from the context',\n",
    "        'Relevance of the response to the question',\n",
    "        'Precision of the retrieved context',\n",
    "        'Recovery of relevant context'\n",
    "    ]\n",
    "}\n",
    "\n",
    "results_df = pd.DataFrame(results_dict)\n",
    "print(\"\\nRAGAS Results Table:\")\n",
    "print(results_df.to_string(index=False))\n",
    "\n",
    "# Calculate average score safely\n",
    "valid_scores = [score for score in results_dict['Score'] if score > 0]\n",
    "if valid_scores:\n",
    "    average_score = sum(valid_scores) / len(valid_scores)\n",
    "    print(f\"\\nRAGAS Average Score: {average_score:.4f}\")\n",
    "else:\n",
    "    print(\"\\nCould not calculate valid scores\")\n",
    "\n",
    "# Show individual scores for debugging - CORRECTED\n",
    "print(\"\\nIndividual Scores (Raw):\")\n",
    "try:\n",
    "    # Access result attributes directly\n",
    "    for metric in ['faithfulness', 'answer_relevancy', 'context_precision', 'context_recall']:\n",
    "        try:\n",
    "            score = getattr(result, metric, None)\n",
    "            print(f\"{metric}: {score} (type: {type(score)})\")\n",
    "        except AttributeError:\n",
    "            # Try dictionary access\n",
    "            try:\n",
    "                score = result[metric]\n",
    "                print(f\"{metric}: {score} (type: {type(score)})\")\n",
    "            except (KeyError, TypeError):\n",
    "                print(f\"{metric}: Not available\")\n",
    "except Exception as e:\n",
    "    print(f\"Error accessing result: {e}\")\n",
    "    print(f\"Result type: {type(result)}\")\n",
    "    print(f\"Result dir: {dir(result)}\")\n",
    "\n",
    "# Show detailed breakdown if scores are lists - CORRECTED\n",
    "print(\"\\nDetailed Breakdown by Question:\")\n",
    "for metric in ['faithfulness', 'answer_relevancy', 'context_precision', 'context_recall']:\n",
    "    try:\n",
    "        # Try different ways to access the score\n",
    "        score = None\n",
    "        try:\n",
    "            score = getattr(result, metric, None)\n",
    "        except AttributeError:\n",
    "            try:\n",
    "                score = result[metric]\n",
    "            except (KeyError, TypeError):\n",
    "                pass\n",
    "        \n",
    "        if isinstance(score, list):\n",
    "            print(f\"\\n{metric}:\")\n",
    "            for i, s in enumerate(score):\n",
    "                print(f\"  Question {i+1}: {s}\")\n",
    "            print(f\"  Average: {safe_average(score):.4f}\")\n",
    "        elif score is not None:\n",
    "            print(f\"\\n{metric}: {score}\")\n",
    "        else:\n",
    "            print(f\"\\n{metric}: Not available\")\n",
    "    except Exception as e:\n",
    "        print(f\"\\n{metric}: Error - {e}\")"
   ]
  }
 ],
 "metadata": {
  "kernelspec": {
   "display_name": ".venv",
   "language": "python",
   "name": "python3"
  },
  "language_info": {
   "codemirror_mode": {
    "name": "ipython",
    "version": 3
   },
   "file_extension": ".py",
   "mimetype": "text/x-python",
   "name": "python",
   "nbconvert_exporter": "python",
   "pygments_lexer": "ipython3",
   "version": "3.12.11"
  }
 },
 "nbformat": 4,
 "nbformat_minor": 5
}
