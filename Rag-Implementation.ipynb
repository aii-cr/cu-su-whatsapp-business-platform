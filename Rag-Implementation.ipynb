{
 "cells": [
  {
   "cell_type": "code",
   "execution_count": 108,
   "id": "c80a93a8",
   "metadata": {},
   "outputs": [
    {
     "name": "stderr",
     "output_type": "stream",
     "text": [
      "[nltk_data] Downloading package punkt to /home/sa/nltk_data...\n",
      "[nltk_data]   Package punkt is already up-to-date!\n",
      "[nltk_data] Downloading package averaged_perceptron_tagger to\n",
      "[nltk_data]     /home/sa/nltk_data...\n",
      "[nltk_data]   Package averaged_perceptron_tagger is already up-to-\n",
      "[nltk_data]       date!\n"
     ]
    },
    {
     "data": {
      "text/plain": [
       "True"
      ]
     },
     "execution_count": 108,
     "metadata": {},
     "output_type": "execute_result"
    }
   ],
   "source": [
    "import nltk\n",
    "nltk.download('punkt')\n",
    "nltk.download('averaged_perceptron_tagger')"
   ]
  },
  {
   "cell_type": "code",
   "execution_count": 109,
   "id": "95862a7f",
   "metadata": {},
   "outputs": [],
   "source": [
    "import os\n",
    "import getpass\n",
    "\n",
    "EMBEDDING_MODEL = \"text-embedding-3-small\"\n",
    "CHAT_MODEL = \"gpt-4o-mini\"   # adjust as desired\n",
    "COLLECTION_NAME = \"adn\"\n",
    "TOP_K = 6\n",
    "FETCH_K = 24\n",
    "\n",
    "os.environ[\"OPENAI_API_KEY\"] = getpass.getpass(\"OpenAI API Key:\")\n",
    "os.environ[\"COHERE_API_KEY\"] = getpass.getpass(\"Cohere API Key:\")"
   ]
  },
  {
   "cell_type": "code",
   "execution_count": 110,
   "id": "976e3146",
   "metadata": {},
   "outputs": [],
   "source": [
    "from langchain_community.document_loaders.csv_loader import CSVLoader\n",
    "from datetime import datetime, timedelta\n",
    "from langchain_core.documents import Document\n",
    "import csv\n",
    "from typing import List\n",
    "\n",
    "def load_csv_with_csvloader(csv_path: str) -> List[Document]:\n",
    "    \"\"\"\n",
    "    Load a CSV into Documents using LangChain's CSVLoader.\n",
    "    page_content := only ['title', 'details'].\n",
    "    All remaining columns preserved as metadata (e.g., id, section, tags, channel_number).\n",
    "    \"\"\"\n",
    "    with open(csv_path, newline=\"\", encoding=\"utf-8-sig\") as f:\n",
    "        cols = csv.DictReader(f).fieldnames or []\n",
    "\n",
    "    content_cols = [c for c in [\"title\", \"details\"] if c in cols]\n",
    "    meta_cols = [c for c in cols if c not in content_cols]\n",
    "    print(f\"content_cols: {content_cols}\")\n",
    "    print(f\"meta_cols: {meta_cols}\")\n",
    "    loader = CSVLoader(\n",
    "        file_path=csv_path,\n",
    "        content_columns=content_cols,\n",
    "        metadata_columns=meta_cols,\n",
    "        encoding=\"utf-8-sig\",\n",
    "        autodetect_encoding=True,\n",
    "    )\n",
    "    return loader.load()\n",
    "\n",
    "# current metadata columns: id,section,subsection,title,details,price_crc,price_text,tags,url,contact_value,channel_number,locale,version\n",
    "loader = CSVLoader(\n",
    "    file_path=f\"./RAG_data/adn_rag_base_full_v1_3.csv\",\n",
    "    metadata_columns=[\n",
    "      \"id\",\n",
    "      \"section\",\n",
    "      \"subsection\",\n",
    "      \"title\",\n",
    "      \"details\",\n",
    "      \"price_crc\",\n",
    "      \"price_text\",\n",
    "      \"tags\",\n",
    "      \"url\",\n",
    "      \"contact_value\",\n",
    "      \"channel_number\",\n",
    "      \"locale\",\n",
    "      \"version\"\n",
    "    ]\n",
    ")\n",
    "\n"
   ]
  },
  {
   "cell_type": "code",
   "execution_count": 111,
   "id": "1b4ad441",
   "metadata": {},
   "outputs": [
    {
     "name": "stdout",
     "output_type": "stream",
     "text": [
      "content_cols: ['title', 'details']\n",
      "meta_cols: ['id', 'section', 'subsection', 'price_crc', 'price_text', 'tags', 'url', 'contact_value', 'channel_number', 'locale', 'version']\n",
      "title: Descripción\n",
      "details: American Data Networks S.A. (ADN) fundada en 2005. Equipo con más de 15 años de experiencia en telecomunicaciones.\n",
      "Enfoque 100 % en calidad de servicio y soporte oportuno. Actualización constante de tecnologías para brindar servicios de clase mundial.\n",
      "Opción de transporte nacional e internacional de alta capacidad de datos en Costa Rica; permite optimizar y expandir redes de forma segura y rápida.\n",
      "{'source': 'RAG_data/adn_rag_base_full_v1_3.csv', 'row': 0, 'id': '2eebd6ef-cd3e-46e4-a268-dd4830bf76aa', 'section': 'Compañía', 'subsection': 'Quiénes Somos', 'price_crc': '', 'price_text': '', 'tags': 'empresa, historia, calidad, telecomunicaciones', 'url': '', 'contact_value': '', 'channel_number': '', 'locale': 'es_CR', 'version': 'v1.3'}\n"
     ]
    }
   ],
   "source": [
    "adn_data = load_csv_with_csvloader(\"RAG_data/adn_rag_base_full_v1_3.csv\")\n",
    "\n",
    "for doc in adn_data:\n",
    "    print(doc.page_content)\n",
    "    print(doc.metadata)\n",
    "    break"
   ]
  },
  {
   "cell_type": "code",
   "execution_count": 112,
   "id": "fdf01a53",
   "metadata": {},
   "outputs": [
    {
     "data": {
      "text/plain": [
       "Document(metadata={'source': 'RAG_data/adn_rag_base_full_v1_3.csv', 'row': 0, 'id': '2eebd6ef-cd3e-46e4-a268-dd4830bf76aa', 'section': 'Compañía', 'subsection': 'Quiénes Somos', 'price_crc': '', 'price_text': '', 'tags': 'empresa, historia, calidad, telecomunicaciones', 'url': '', 'contact_value': '', 'channel_number': '', 'locale': 'es_CR', 'version': 'v1.3'}, page_content='title: Descripción\\ndetails: American Data Networks S.A. (ADN) fundada en 2005. Equipo con más de 15 años de experiencia en telecomunicaciones.\\nEnfoque 100 % en calidad de servicio y soporte oportuno. Actualización constante de tecnologías para brindar servicios de clase mundial.\\nOpción de transporte nacional e internacional de alta capacidad de datos en Costa Rica; permite optimizar y expandir redes de forma segura y rápida.')"
      ]
     },
     "execution_count": 112,
     "metadata": {},
     "output_type": "execute_result"
    }
   ],
   "source": [
    "adn_data[0]"
   ]
  },
  {
   "cell_type": "code",
   "execution_count": 113,
   "id": "06587a65",
   "metadata": {},
   "outputs": [],
   "source": [
    "from langchain_community.vectorstores import Qdrant\n",
    "from langchain_openai import OpenAIEmbeddings\n",
    "\n",
    "embeddings = OpenAIEmbeddings(model=\"text-embedding-3-small\")\n",
    "\n",
    "vectorstore = Qdrant.from_documents(\n",
    "    adn_data,\n",
    "    embeddings,\n",
    "    location=\":memory:\",\n",
    "    collection_name=COLLECTION_NAME\n",
    ")\n",
    "\n"
   ]
  },
  {
   "cell_type": "code",
   "execution_count": 114,
   "id": "cbddc9ad",
   "metadata": {},
   "outputs": [],
   "source": [
    "from langchain_experimental.text_splitter import SemanticChunker\n",
    "\n",
    "semantic_chunker = SemanticChunker(\n",
    "    embeddings,\n",
    "    breakpoint_threshold_type=\"percentile\"\n",
    ")\n",
    "\n",
    "semantic_documents = semantic_chunker.split_documents(adn_data)\n",
    "\n",
    "semantic_vectorstore = Qdrant.from_documents(\n",
    "    semantic_documents,\n",
    "    embeddings,\n",
    "    location=\":memory:\",\n",
    "    collection_name=\"ADN_Data_Semantic_Chunks\"\n",
    ")"
   ]
  },
  {
   "cell_type": "code",
   "execution_count": 115,
   "id": "fe044cbe",
   "metadata": {},
   "outputs": [],
   "source": [
    "naive_retriever = vectorstore.as_retriever(search_kwargs={\"k\" : 6})\n",
    "\n",
    "semantic_retriever = semantic_vectorstore.as_retriever(search_kwargs={\"k\" : 6})\n",
    "\n"
   ]
  },
  {
   "cell_type": "code",
   "execution_count": 116,
   "id": "782a5c7c",
   "metadata": {},
   "outputs": [],
   "source": [
    "from langchain_core.prompts import ChatPromptTemplate\n",
    "\n",
    "RAG_TEMPLATE = \"\"\"\\\n",
    "Eres un asistente de soporte que trabaja para American Data Networks. Habla siempre en primera persona como si fueras parte del equipo. Responde SOLO con la información del CONTEXTO proporcionado.\n",
    "Si la pregunta no se encuentra en el contexto proporcionado de American Data Networks, responde: \"No tengo la respuesta a esa pregunta\".\n",
    "Si la pregunta es sobre un producto o servicio que no es de American Data Networks, responde: \"No tenemos información sobre ese producto o servicio\".\n",
    "\n",
    "Responde en el mismo idioma en que se hizo la pregunta.\n",
    "Importante: usa expresiones en primera persona (por ejemplo: “nuestra dirección”, “puedes visitarnos”, “podemos ayudarte”), nunca en tercera persona (“ellos”, “tienen”, “puedes visitarlos”).\n",
    "\n",
    "Query:\n",
    "{question}\n",
    "\n",
    "Context:\n",
    "{context}\n",
    "\"\"\"\n",
    "\n",
    "rag_prompt = ChatPromptTemplate.from_template(RAG_TEMPLATE)"
   ]
  },
  {
   "cell_type": "code",
   "execution_count": 117,
   "id": "5bfc073d",
   "metadata": {},
   "outputs": [],
   "source": [
    "from langchain_openai import ChatOpenAI\n",
    "\n",
    "chat_model = ChatOpenAI(model=\"gpt-4.1-nano\")"
   ]
  },
  {
   "cell_type": "code",
   "execution_count": 118,
   "id": "31eca756",
   "metadata": {},
   "outputs": [],
   "source": [
    "from langchain_core.runnables import RunnablePassthrough\n",
    "from operator import itemgetter\n",
    "from langchain_core.output_parsers import StrOutputParser\n",
    "\n",
    "naive_retrieval_chain = (\n",
    "    # INVOKE CHAIN WITH: {\"question\" : \"<<SOME USER QUESTION>>\"}\n",
    "    # \"question\" : populated by getting the value of the \"question\" key\n",
    "    # \"context\"  : populated by getting the value of the \"question\" key and chaining it into the base_retriever\n",
    "    {\"context\": itemgetter(\"question\") | naive_retriever, \"question\": itemgetter(\"question\")}\n",
    "    # \"context\"  : is assigned to a RunnablePassthrough object (will not be called or considered in the next step)\n",
    "    #              by getting the value of the \"context\" key from the previous step\n",
    "    | RunnablePassthrough.assign(context=itemgetter(\"context\"))\n",
    "    # \"response\" : the \"context\" and \"question\" values are used to format our prompt object and then piped\n",
    "    #              into the LLM and stored in a key called \"response\"\n",
    "    # \"context\"  : populated by getting the value of the \"context\" key from the previous step\n",
    "    | {\"response\": rag_prompt | chat_model, \"context\": itemgetter(\"context\")}\n",
    ")"
   ]
  },
  {
   "cell_type": "code",
   "execution_count": 119,
   "id": "eb1110c8",
   "metadata": {},
   "outputs": [],
   "source": [
    "semantic_retrieval_chain = (\n",
    "    {\"context\": itemgetter(\"question\") | semantic_retriever, \"question\": itemgetter(\"question\")}\n",
    "    | RunnablePassthrough.assign(context=itemgetter(\"context\"))\n",
    "    | {\"response\": rag_prompt | chat_model, \"context\": itemgetter(\"context\")}\n",
    ")"
   ]
  },
  {
   "cell_type": "code",
   "execution_count": 120,
   "id": "c48bc68d",
   "metadata": {},
   "outputs": [
    {
     "data": {
      "text/plain": [
       "'Sí, en nuestra grilla IPTV tenemos disponible el canal History Channel.'"
      ]
     },
     "execution_count": 120,
     "metadata": {},
     "output_type": "execute_result"
    }
   ],
   "source": [
    "naive_retrieval_chain.invoke({\"question\" : \"tienen History Channel?\"})[\"response\"].content"
   ]
  },
  {
   "cell_type": "code",
   "execution_count": 121,
   "id": "73de6d3b",
   "metadata": {},
   "outputs": [
    {
     "data": {
      "text/plain": [
       "'Puedes contratar un servicio de ADN en línea siguiendo estos pasos: primero, verifica la cobertura en nuestro sitio https://data.cr/cobertura o comparte tu dirección exacta por WhatsApp. Luego, puedes elegir tu plan y adicionales, completar el formulario de checkout con tus datos personales y ubicación, y agenda la instalación en la fecha y hora que prefieras. También puedes contratar por WhatsApp, donde un asesor verificará tu cobertura, te recomendará un plan y te ayudará a registrar tus datos para finalizar la contratación. Si deseas más información o quieres iniciar el proceso, puedes visitarnos en https://data.cr/adquirir-servicios o contactarnos por WhatsApp.'"
      ]
     },
     "execution_count": 121,
     "metadata": {},
     "output_type": "execute_result"
    }
   ],
   "source": [
    "semantic_retrieval_chain.invoke({\"question\" : \"Quiero contratar un servicio de ADN\"})[\"response\"].content"
   ]
  },
  {
   "cell_type": "code",
   "execution_count": null,
   "id": "43c9b254",
   "metadata": {},
   "outputs": [],
   "source": [
    "from langchain_community.retrievers import BM25Retriever\n",
    "\n",
    "bm25_retriever = BM25Retriever.from_documents(adn_data,)\n",
    "\n",
    "bm25_retrieval_chain = (\n",
    "    {\"context\": itemgetter(\"question\") | bm25_retriever, \"question\": itemgetter(\"question\")}\n",
    "    | RunnablePassthrough.assign(context=itemgetter(\"context\"))\n",
    "    | {\"response\": rag_prompt | chat_model, \"context\": itemgetter(\"context\")}\n",
    ")\n",
    "bm25_retrieval_chain.invoke({\"question\" : \"Precio de un plan de 100/100 Mbps\"})[\"response\"].content"
   ]
  },
  {
   "cell_type": "code",
   "execution_count": 134,
   "id": "d9f7e469",
   "metadata": {},
   "outputs": [
    {
     "data": {
      "text/plain": [
       "'El precio de un plan de 100 megas en nuestra compañía es de ₡20,500 IVI. Además, tenemos otros planes como el de 250/250 Mbps por ₡26,600 IVI, y el de 500/500 Mbps por ₡33,410 IVI. Nuestro plan más popular es el de 500/500 Mbps, que además incluye equipo Wi-Fi, firewall y soporte 24/7. También contamos con el plan de 1 Gbps por ₡49,500 IVI, que es el de mayor velocidad que ofrecemos. Si quieres más detalles o deseas contratar, puedes hacerlo en nuestra plataforma en línea o visitándonos con tu cobertura verificada.'"
      ]
     },
     "execution_count": 134,
     "metadata": {},
     "output_type": "execute_result"
    }
   ],
   "source": [
    "from langchain.retrievers.multi_query import MultiQueryRetriever\n",
    "\n",
    "multi_query_retriever = MultiQueryRetriever.from_llm(\n",
    "    retriever=naive_retriever, llm=chat_model\n",
    ")\n",
    "\n",
    "multi_query_retrieval_chain = (\n",
    "    {\"context\": itemgetter(\"question\") | multi_query_retriever, \"question\": itemgetter(\"question\")}\n",
    "    | RunnablePassthrough.assign(context=itemgetter(\"context\"))\n",
    "    | {\"response\": rag_prompt | chat_model, \"context\": itemgetter(\"context\")}\n",
    ")\n",
    "\n",
    "multi_query_retrieval_chain.invoke({\"question\" : \"Precio de un plan de 100 megas, y que mas tienes, y cuales son los planes mas populares\"})[\"response\"].content"
   ]
  },
  {
   "cell_type": "code",
   "execution_count": 135,
   "id": "b3bd0bf8",
   "metadata": {},
   "outputs": [
    {
     "data": {
      "text/plain": [
       "'El precio del plan de 100 megas en American Data Networks es de ₡20,500 IVI. Además, contamos con otros planes como el de 250 Mbps, que cuesta ₡26,600 IVI, y el de 500 Mbps, que tiene un precio de ₡33,410 IVI. También ofrecemos un plan de 1 Gbps con un precio de ₡49,500 IVI.\\n\\nNuestro plan más popular es el de 500/500 Mbps, que incluye Equipo Wi-Fi, Firewall y Soporte 24/7.'"
      ]
     },
     "execution_count": 135,
     "metadata": {},
     "output_type": "execute_result"
    }
   ],
   "source": [
    "from langchain.retrievers import ParentDocumentRetriever\n",
    "from langchain.storage import InMemoryStore\n",
    "from langchain_text_splitters import RecursiveCharacterTextSplitter\n",
    "from qdrant_client import QdrantClient, models\n",
    "\n",
    "parent_docs = adn_data\n",
    "child_splitter = RecursiveCharacterTextSplitter(chunk_size=750)\n",
    "\n",
    "from langchain_qdrant import QdrantVectorStore\n",
    "\n",
    "client = QdrantClient(location=\":memory:\")\n",
    "\n",
    "client.create_collection(\n",
    "    collection_name=\"full_documents\",\n",
    "    vectors_config=models.VectorParams(size=1536, distance=models.Distance.COSINE)\n",
    ")\n",
    "\n",
    "parent_document_vectorstore = QdrantVectorStore(\n",
    "    collection_name=\"full_documents\", embedding=OpenAIEmbeddings(model=\"text-embedding-3-small\"), client=client\n",
    ")\n",
    "\n",
    "store = InMemoryStore()\n",
    "\n",
    "parent_document_retriever = ParentDocumentRetriever(\n",
    "    vectorstore = parent_document_vectorstore,\n",
    "    docstore=store,\n",
    "    child_splitter=child_splitter,\n",
    ")\n",
    "\n",
    "parent_document_retriever.add_documents(parent_docs, ids=None)\n",
    "\n",
    "parent_document_retrieval_chain = (\n",
    "    {\"context\": itemgetter(\"question\") | parent_document_retriever, \"question\": itemgetter(\"question\")}\n",
    "    | RunnablePassthrough.assign(context=itemgetter(\"context\"))\n",
    "    | {\"response\": rag_prompt | chat_model, \"context\": itemgetter(\"context\")}\n",
    ")\n",
    "\n",
    "parent_document_retrieval_chain.invoke({\"question\" : \"Precio de un plan de 100 megas, y que mas tienes, y cual es el plan mas popular\"})[\"response\"].content"
   ]
  },
  {
   "cell_type": "code",
   "execution_count": 122,
   "id": "20394720",
   "metadata": {},
   "outputs": [],
   "source": [
    "from ragas.llms import LangchainLLMWrapper\n",
    "from ragas.embeddings import LangchainEmbeddingsWrapper\n",
    "from langchain_openai import ChatOpenAI\n",
    "from langchain_openai import OpenAIEmbeddings\n",
    "generator_llm = LangchainLLMWrapper(ChatOpenAI(model=\"gpt-4.1\"))\n",
    "generator_embeddings = LangchainEmbeddingsWrapper(OpenAIEmbeddings())"
   ]
  },
  {
   "cell_type": "code",
   "execution_count": null,
   "id": "0e793448",
   "metadata": {},
   "outputs": [
    {
     "name": "stdout",
     "output_type": "stream",
     "text": [
      "Generating test data for NAIVE retriever...\n",
      "✓ Processed: ¿Qué es American Data Networks (ADN) y desde cuánd...\n",
      "✓ Processed: ¿Cuál es la misión de ADN?...\n",
      "✓ Processed: ¿Y la visión de la empresa cuál es?...\n",
      "✓ Processed: Estoy armando mi plan en casa: ¿cuánto cuesta el p...\n",
      "✓ Processed: ¿Cuál es el precio del plan de 250/250 megas simét...\n",
      "✓ Processed: Quiero más velocidad: ¿cuánto vale el plan de 500/...\n",
      "✓ Processed: ¿Tienen plan de 1 giga simétrico? ¿En cuánto sale ...\n",
      "✓ Processed: ¿Qué incluyen los planes residenciales además del ...\n",
      "✓ Processed: Quiero agregar telefonía fija a mi plan: ¿cuánto c...\n",
      "✓ Processed: Si compro IPTV, ¿cuántos dispositivos como máximo ...\n",
      "✓ Processed: ¿Y cuánto cuesta cada dispositivo IPTV?...\n",
      "✓ Processed: Más o menos, ¿cuántos canales trae el servicio de ...\n",
      "✓ Processed: ¿Qué impuestos y cargos ya vienen incluidos en los...\n",
      "✓ Processed: ¿Cuál es el número de WhatsApp para comprar o pedi...\n",
      "✓ Processed: Necesito llamarles: ¿cuál es el teléfono principal...\n",
      "\n",
      "Generating test data for SEMANTIC retriever...\n",
      "✓ Processed: ¿Qué es American Data Networks (ADN) y desde cuánd...\n",
      "✓ Processed: ¿Cuál es la misión de ADN?...\n",
      "✓ Processed: ¿Y la visión de la empresa cuál es?...\n",
      "✓ Processed: Estoy armando mi plan en casa: ¿cuánto cuesta el p...\n",
      "✓ Processed: ¿Cuál es el precio del plan de 250/250 megas simét...\n",
      "✓ Processed: Quiero más velocidad: ¿cuánto vale el plan de 500/...\n",
      "✓ Processed: ¿Tienen plan de 1 giga simétrico? ¿En cuánto sale ...\n",
      "✓ Processed: ¿Qué incluyen los planes residenciales además del ...\n",
      "✓ Processed: Quiero agregar telefonía fija a mi plan: ¿cuánto c...\n",
      "✓ Processed: Si compro IPTV, ¿cuántos dispositivos como máximo ...\n",
      "✓ Processed: ¿Y cuánto cuesta cada dispositivo IPTV?...\n",
      "✓ Processed: Más o menos, ¿cuántos canales trae el servicio de ...\n",
      "✓ Processed: ¿Qué impuestos y cargos ya vienen incluidos en los...\n",
      "✓ Processed: ¿Cuál es el número de WhatsApp para comprar o pedi...\n",
      "✓ Processed: Necesito llamarles: ¿cuál es el teléfono principal...\n"
     ]
    }
   ],
   "source": [
    "from ragas.testset import TestsetGenerator\n",
    "from typing import List\n",
    "\n",
    "generator = TestsetGenerator(llm=generator_llm, embedding_model=generator_embeddings)\n",
    "\n",
    "# Create manual test set with realistic user questions\n",
    "manual_test_set_updated = [\n",
    "    {\n",
    "        \"question\": \"¿Qué es American Data Networks (ADN) y desde cuándo existe?\",\n",
    "        \"contexts\": \"\",\n",
    "        \"answer\": \"\",\n",
    "        \"ground_truth\": \"American Data Networks S.A. (ADN) es una empresa de telecomunicaciones fundada en 2005.\"\n",
    "    },\n",
    "    # {\n",
    "    #     \"question\": \"¿Cuál es la misión de ADN?\",\n",
    "    #     \"contexts\": \"\",\n",
    "    #     \"answer\": \"\",\n",
    "    #     \"ground_truth\": \"Ser la primera opción en servicios de telecomunicaciones, garantizando transporte de datos rápido, eficiente y seguro.\"\n",
    "    # },\n",
    "    {\n",
    "        \"question\": \"¿Y la visión de la empresa cuál es?\",\n",
    "        \"contexts\": \"\",\n",
    "        \"answer\": \"\",\n",
    "        \"ground_truth\": \"Ser la compañía líder en vanguardia tecnológica en Costa Rica, con enfoque claro en clientes y estándares de clase mundial.\"\n",
    "    },\n",
    "    {\n",
    "        \"question\": \"Estoy armando mi plan en casa: ¿cuánto cuesta el plan residencial de 100/100 megas?\",\n",
    "        \"contexts\": \"\",\n",
    "        \"answer\": \"\",\n",
    "        \"ground_truth\": \"₡20 500 IVI.\"\n",
    "    },\n",
    "    # {\n",
    "    #     \"question\": \"¿Cuál es el precio del plan de 250/250 megas simétricos?\",\n",
    "    #     \"contexts\": \"\",\n",
    "    #     \"answer\": \"\",\n",
    "    #     \"ground_truth\": \"₡26 600 IVI.\"\n",
    "    # },\n",
    "    {\n",
    "        \"question\": \"Quiero más velocidad: ¿cuánto vale el plan de 500/500 megas?\",\n",
    "        \"contexts\": \"\",\n",
    "        \"answer\": \"\",\n",
    "        \"ground_truth\": \"₡33 410 IVI.\"\n",
    "    },\n",
    "    {\n",
    "        \"question\": \"¿Tienen plan de 1 giga simétrico? ¿En cuánto sale al mes?\",\n",
    "        \"contexts\": \"\",\n",
    "        \"answer\": \"\",\n",
    "        \"ground_truth\": \"₡49 500 IVI por mes.\"\n",
    "    },\n",
    "    {\n",
    "        \"question\": \"¿Qué incluyen los planes residenciales además del Internet?\",\n",
    "        \"contexts\": \"\",\n",
    "        \"answer\": \"\",\n",
    "        \"ground_truth\": \"Incluyen equipo Wi-Fi, firewall gestionado y soporte técnico 24/7.\"\n",
    "    },\n",
    "    {\n",
    "        \"question\": \"Quiero agregar telefonía fija a mi plan: ¿cuánto cuesta al mes?\",\n",
    "        \"contexts\": \"\",\n",
    "        \"answer\": \"\",\n",
    "        \"ground_truth\": \"₡3 590 IVI/mes.\"\n",
    "    },\n",
    "    {\n",
    "        \"question\": \"Si compro IPTV, ¿cuántos dispositivos como máximo puedo adquirir?\",\n",
    "        \"contexts\": \"\",\n",
    "        \"answer\": \"\",\n",
    "        \"ground_truth\": \"Hasta 10 dispositivos IPTV.\"\n",
    "    },\n",
    "    {\n",
    "        \"question\": \"¿Y cuánto cuesta cada dispositivo IPTV?\",\n",
    "        \"contexts\": \"\",\n",
    "        \"answer\": \"\",\n",
    "        \"ground_truth\": \"₡4 590 IVI por dispositivo.\"\n",
    "    },\n",
    "    {\n",
    "        \"question\": \"Más o menos, ¿cuántos canales trae el servicio de IPTV?\",\n",
    "        \"contexts\": \"\",\n",
    "        \"answer\": \"\",\n",
    "        \"ground_truth\": \"Más de 100 canales.\"\n",
    "    },\n",
    "    # {\n",
    "    #     \"question\": \"¿Qué impuestos y cargos ya vienen incluidos en los precios IVI?\",\n",
    "    #     \"contexts\": \"\",\n",
    "    #     \"answer\": \"\",\n",
    "    #     \"ground_truth\": \"IVA 13 %, 1 % Cruz Roja y 0,75 % 9-1-1.\"\n",
    "    # },\n",
    "    # {\n",
    "    #     \"question\": \"¿Cuál es el número de WhatsApp para comprar o pedir soporte?\",\n",
    "    #     \"contexts\": \"\",\n",
    "    #     \"answer\": \"\",\n",
    "    #     \"ground_truth\": \"+506 7087-8240.\"\n",
    "    # },\n",
    "    # {\n",
    "    #     \"question\": \"Necesito llamarles: ¿cuál es el teléfono principal de ADN?\",\n",
    "    #     \"contexts\": \"\",\n",
    "    #     \"answer\": \"\",\n",
    "    #     \"ground_truth\": \"+506 4050-5050.\"\n",
    "    # }\n",
    "]\n",
    "\n",
    "\n",
    "print(\"Generating test data for NAIVE retriever...\")\n",
    "naive_rag_responses = []\n",
    "\n",
    "for item in manual_test_set_updated:\n",
    "    question = item[\"question\"]\n",
    "    \n",
    "    # Use naive retrieval chain\n",
    "    response = naive_retrieval_chain.invoke({\"question\": question})\n",
    "    \n",
    "    updated_item = {\n",
    "        \"question\": question,\n",
    "        \"contexts\": [doc.page_content for doc in response['context']],\n",
    "        \"answer\": response['response'].content,\n",
    "        \"ground_truth\": item[\"ground_truth\"]\n",
    "    }\n",
    "    \n",
    "    naive_rag_responses.append(updated_item)\n",
    "    print(f\"✓ Processed: {question[:50]}...\")\n",
    "\n",
    "\n"
   ]
  },
  {
   "cell_type": "code",
   "execution_count": null,
   "id": "0e4d8406",
   "metadata": {},
   "outputs": [],
   "source": [
    "print(\"\\nGenerating test data for SEMANTIC retriever...\")\n",
    "semantic_rag_responses = []\n",
    "\n",
    "for item in manual_test_set_updated:\n",
    "    question = item[\"question\"]\n",
    "    \n",
    "    # Use semantic retrieval chain\n",
    "    response = semantic_retrieval_chain.invoke({\"question\": question})\n",
    "    \n",
    "    updated_item = {\n",
    "        \"question\": question,\n",
    "        \"contexts\": [doc.page_content for doc in response['context']],\n",
    "        \"answer\": response['response'].content,\n",
    "        \"ground_truth\": item[\"ground_truth\"]\n",
    "    }\n",
    "    \n",
    "    semantic_rag_responses.append(updated_item)\n",
    "    print(f\"✓ Processed: {question[:50]}...\")"
   ]
  },
  {
   "cell_type": "code",
   "execution_count": 124,
   "id": "c38bbe9f",
   "metadata": {},
   "outputs": [
    {
     "name": "stdout",
     "output_type": "stream",
     "text": [
      "Naive dataset shape: (15, 4)\n",
      "Semantic dataset shape: (15, 4)\n"
     ]
    }
   ],
   "source": [
    "# Convert to RAGAS Dataset\n",
    "from datasets import Dataset\n",
    "import pandas as pd\n",
    "\n",
    "# Create datasets for both retrievers\n",
    "naive_df = pd.DataFrame(naive_rag_responses)\n",
    "naive_dataset = Dataset.from_pandas(naive_df)\n",
    "\n",
    "semantic_df = pd.DataFrame(semantic_rag_responses)\n",
    "semantic_dataset = Dataset.from_pandas(semantic_df)\n",
    "\n",
    "print(f\"Naive dataset shape: {naive_df.shape}\")\n",
    "print(f\"Semantic dataset shape: {semantic_df.shape}\")\n"
   ]
  },
  {
   "cell_type": "code",
   "execution_count": 125,
   "id": "6ef78e6a",
   "metadata": {},
   "outputs": [
    {
     "name": "stdout",
     "output_type": "stream",
     "text": [
      "Evaluating NAIVE retriever...\n"
     ]
    },
    {
     "data": {
      "application/vnd.jupyter.widget-view+json": {
       "model_id": "804c3a814002432784fae8c75c31f2c0",
       "version_major": 2,
       "version_minor": 0
      },
      "text/plain": [
       "Evaluating:   0%|          | 0/60 [00:00<?, ?it/s]"
      ]
     },
     "metadata": {},
     "output_type": "display_data"
    },
    {
     "name": "stderr",
     "output_type": "stream",
     "text": [
      "Exception raised in Job[2]: TimeoutError()\n",
      "Exception raised in Job[6]: TimeoutError()\n",
      "Exception raised in Job[16]: TimeoutError()\n",
      "Exception raised in Job[20]: TimeoutError()\n",
      "Exception raised in Job[22]: TimeoutError()\n"
     ]
    },
    {
     "name": "stdout",
     "output_type": "stream",
     "text": [
      "Evaluating SEMANTIC retriever...\n"
     ]
    },
    {
     "data": {
      "application/vnd.jupyter.widget-view+json": {
       "model_id": "e359dca80c2a416cb30509ec452a59aa",
       "version_major": 2,
       "version_minor": 0
      },
      "text/plain": [
       "Evaluating:   0%|          | 0/60 [00:00<?, ?it/s]"
      ]
     },
     "metadata": {},
     "output_type": "display_data"
    },
    {
     "name": "stderr",
     "output_type": "stream",
     "text": [
      "Exception raised in Job[16]: RateLimitError(Error code: 429 - {'error': {'message': 'Rate limit reached for gpt-4.1 in organization org-gs3dRZtJA0QKE5tZXAw4L9YF on tokens per min (TPM): Limit 30000, Used 29484, Requested 1255. Please try again in 1.478s. Visit https://platform.openai.com/account/rate-limits to learn more.', 'type': 'tokens', 'param': None, 'code': 'rate_limit_exceeded'}})\n",
      "Exception raised in Job[6]: RateLimitError(Error code: 429 - {'error': {'message': 'Rate limit reached for gpt-4.1 in organization org-gs3dRZtJA0QKE5tZXAw4L9YF on tokens per min (TPM): Limit 30000, Used 30000, Requested 1080. Please try again in 2.16s. Visit https://platform.openai.com/account/rate-limits to learn more.', 'type': 'tokens', 'param': None, 'code': 'rate_limit_exceeded'}})\n",
      "Exception raised in Job[0]: TimeoutError()\n",
      "Exception raised in Job[12]: TimeoutError()\n",
      "Exception raised in Job[14]: TimeoutError()\n",
      "Exception raised in Job[20]: RateLimitError(Error code: 429 - {'error': {'message': 'Rate limit reached for gpt-4.1 in organization org-gs3dRZtJA0QKE5tZXAw4L9YF on tokens per min (TPM): Limit 30000, Used 28938, Requested 1271. Please try again in 418ms. Visit https://platform.openai.com/account/rate-limits to learn more.', 'type': 'tokens', 'param': None, 'code': 'rate_limit_exceeded'}})\n",
      "Exception raised in Job[24]: RateLimitError(Error code: 429 - {'error': {'message': 'Rate limit reached for gpt-4.1 in organization org-gs3dRZtJA0QKE5tZXAw4L9YF on tokens per min (TPM): Limit 30000, Used 30000, Requested 1322. Please try again in 2.644s. Visit https://platform.openai.com/account/rate-limits to learn more.', 'type': 'tokens', 'param': None, 'code': 'rate_limit_exceeded'}})\n",
      "Exception raised in Job[23]: TimeoutError()\n",
      "Exception raised in Job[26]: TimeoutError()\n",
      "Exception raised in Job[27]: RateLimitError(Error code: 429 - {'error': {'message': 'Rate limit reached for gpt-4.1 in organization org-gs3dRZtJA0QKE5tZXAw4L9YF on tokens per min (TPM): Limit 30000, Used 29631, Requested 1311. Please try again in 1.883s. Visit https://platform.openai.com/account/rate-limits to learn more.', 'type': 'tokens', 'param': None, 'code': 'rate_limit_exceeded'}})\n"
     ]
    },
    {
     "name": "stdout",
     "output_type": "stream",
     "text": [
      "✓ Both evaluations completed!\n"
     ]
    },
    {
     "data": {
      "text/plain": [
       "{'faithfulness': 0.8000, 'answer_relevancy': 0.9285, 'context_precision': 0.6191, 'context_recall': 0.6154}"
      ]
     },
     "execution_count": 125,
     "metadata": {},
     "output_type": "execute_result"
    }
   ],
   "source": [
    "from ragas import evaluate\n",
    "from ragas.metrics import faithfulness, answer_relevancy, context_precision, context_recall\n",
    "\n",
    "# Define metrics\n",
    "metrics = [\n",
    "    faithfulness,\n",
    "    answer_relevancy, \n",
    "    context_precision,\n",
    "    context_recall\n",
    "]\n",
    "\n",
    "print(\"Evaluating NAIVE retriever...\")\n",
    "naive_result = evaluate(\n",
    "    naive_dataset,\n",
    "    metrics=metrics,\n",
    "    llm=generator_llm,\n",
    "    embeddings=generator_embeddings\n",
    ")\n",
    "\n",
    "print(\"Evaluating SEMANTIC retriever...\")\n",
    "semantic_result = evaluate(\n",
    "    semantic_dataset,\n",
    "    metrics=metrics,\n",
    "    llm=generator_llm,\n",
    "    embeddings=generator_embeddings\n",
    ")\n",
    "\n",
    "print(\"✓ Both evaluations completed!\")\n",
    "semantic_result"
   ]
  },
  {
   "cell_type": "code",
   "execution_count": 126,
   "id": "870f51ea",
   "metadata": {},
   "outputs": [
    {
     "data": {
      "text/plain": [
       "{'faithfulness': 0.8115, 'answer_relevancy': 0.9383, 'context_precision': 0.5358, 'context_recall': 0.5333}"
      ]
     },
     "execution_count": 126,
     "metadata": {},
     "output_type": "execute_result"
    }
   ],
   "source": [
    "naive_result"
   ]
  },
  {
   "cell_type": "code",
   "execution_count": 127,
   "id": "cae0dea8",
   "metadata": {},
   "outputs": [
    {
     "name": "stdout",
     "output_type": "stream",
     "text": [
      "================================================================================\n",
      "           RAG RETRIEVER PERFORMANCE COMPARISON\n",
      "================================================================================\n",
      "\n",
      "      Metric       Naive Retriever  Semantic Retriever  Improvement                Description                \n",
      "     Faithfulness      0.8115             0.8000         -0.0115    Factual consistency with retrieved context\n",
      " Answer Relevancy      0.9383             0.9285         -0.0098           Relevance of answer to the question\n",
      "Context Precision      0.5358             0.6191          0.0833                Precision of retrieved context\n",
      "   Context Recall      0.5333             0.6154          0.0821                    Recall of relevant context\n",
      "\n",
      "--------------------------------------------------------------------------------\n",
      "                                OVERALL AVERAGES                                \n",
      "--------------------------------------------------------------------------------\n",
      "Naive Retriever Average:    0.7047\n",
      "Semantic Retriever Average: 0.7407\n",
      "Overall Improvement:        +0.0360\n",
      "\n",
      "                           🏆 SEMANTIC RETRIEVER WINS!                           \n",
      "Performance improvement: +5.1%\n",
      "================================================================================\n"
     ]
    }
   ],
   "source": [
    "import pandas as pd\n",
    "import numpy as np\n",
    "\n",
    "def extract_score(result, metric_name):\n",
    "    \"\"\"Safely extract score from RAGAS result.\"\"\"\n",
    "    try:\n",
    "        score = result[metric_name]\n",
    "        if isinstance(score, list):\n",
    "            # Calculate average for list of scores\n",
    "            valid_scores = [s for s in score if s is not None and not np.isnan(s)]\n",
    "            return sum(valid_scores) / len(valid_scores) if valid_scores else 0.0\n",
    "        elif isinstance(score, (int, float)) and not np.isnan(score):\n",
    "            return float(score)\n",
    "        else:\n",
    "            return 0.0\n",
    "    except (KeyError, TypeError):\n",
    "        return 0.0\n",
    "\n",
    "# Extract scores for both retrievers\n",
    "metrics_names = ['faithfulness', 'answer_relevancy', 'context_precision', 'context_recall']\n",
    "naive_scores = [extract_score(naive_result, metric) for metric in metrics_names]\n",
    "semantic_scores = [extract_score(semantic_result, metric) for metric in metrics_names]\n",
    "\n",
    "# Create comparison DataFrame\n",
    "comparison_data = {\n",
    "    'Metric': [\n",
    "        'Faithfulness',\n",
    "        'Answer Relevancy', \n",
    "        'Context Precision',\n",
    "        'Context Recall'\n",
    "    ],\n",
    "    'Naive Retriever': naive_scores,\n",
    "    'Semantic Retriever': semantic_scores,\n",
    "    'Improvement': [semantic - naive for semantic, naive in zip(semantic_scores, naive_scores)],\n",
    "    'Description': [\n",
    "        'Factual consistency with retrieved context',\n",
    "        'Relevance of answer to the question',\n",
    "        'Precision of retrieved context',\n",
    "        'Recall of relevant context'\n",
    "    ]\n",
    "}\n",
    "\n",
    "comparison_df = pd.DataFrame(comparison_data)\n",
    "\n",
    "# Calculate averages\n",
    "naive_avg = np.mean([score for score in naive_scores if score > 0])\n",
    "semantic_avg = np.mean([score for score in semantic_scores if score > 0])\n",
    "\n",
    "print(\"=\" * 80)\n",
    "print(\"           RAG RETRIEVER PERFORMANCE COMPARISON\")\n",
    "print(\"=\" * 80)\n",
    "print()\n",
    "print(comparison_df.round(4).to_string(index=False, justify='center'))\n",
    "print()\n",
    "print(\"-\" * 80)\n",
    "print(f\"{'OVERALL AVERAGES':^80}\")\n",
    "print(\"-\" * 80)\n",
    "print(f\"Naive Retriever Average:    {naive_avg:.4f}\")\n",
    "print(f\"Semantic Retriever Average: {semantic_avg:.4f}\")\n",
    "print(f\"Overall Improvement:        {semantic_avg - naive_avg:+.4f}\")\n",
    "print()\n",
    "\n",
    "# Determine winner\n",
    "if semantic_avg > naive_avg:\n",
    "    winner = \"🏆 SEMANTIC RETRIEVER WINS!\"\n",
    "    improvement_pct = ((semantic_avg - naive_avg) / naive_avg) * 100\n",
    "    print(f\"{winner:^80}\")\n",
    "    print(f\"Performance improvement: +{improvement_pct:.1f}%\")\n",
    "else:\n",
    "    winner = \"🏆 NAIVE RETRIEVER WINS!\"\n",
    "    improvement_pct = ((naive_avg - semantic_avg) / semantic_avg) * 100\n",
    "    print(f\"{winner:^80}\")\n",
    "    print(f\"Performance advantage: +{improvement_pct:.1f}%\")\n",
    "\n",
    "print(\"=\" * 80)"
   ]
  },
  {
   "cell_type": "code",
   "execution_count": 128,
   "id": "77847653",
   "metadata": {},
   "outputs": [
    {
     "name": "stdout",
     "output_type": "stream",
     "text": [
      "\n",
      "============================================================\n",
      "             DETAILED ANALYSIS\n",
      "============================================================\n",
      "📉 Faithfulness: Naive wins (Δ: -0.0115)\n",
      "📉 Answer Relevancy: Naive wins (Δ: -0.0098)\n",
      "📈 Context Precision: Semantic wins (Δ: +0.0833)\n",
      "📈 Context Recall: Semantic wins (Δ: +0.0821)\n",
      "\n",
      "PERFORMANCE INSIGHTS:\n",
      "------------------------------\n",
      "• Naive Retriever excels at: Answer Relevancy\n",
      "• Semantic Retriever excels at: Answer Relevancy\n",
      "• Naive Retriever needs work on: Context Recall\n",
      "• Semantic Retriever needs work on: Context Recall\n",
      "\n",
      "RECOMMENDations:\n",
      "--------------------\n",
      "✅ Use SEMANTIC retriever for production\n",
      "✅ Focus on improving Context Precision/Recall\n",
      "\n",
      "============================================================\n"
     ]
    }
   ],
   "source": [
    "# Detailed breakdown for better insights\n",
    "print(\"\\n\" + \"=\" * 60)\n",
    "print(\"             DETAILED ANALYSIS\")\n",
    "print(\"=\" * 60)\n",
    "\n",
    "# Check which retriever wins in each metric\n",
    "metric_winners = []\n",
    "for i, metric in enumerate(comparison_df['Metric']):\n",
    "    naive_score = comparison_df.iloc[i]['Naive Retriever']\n",
    "    semantic_score = comparison_df.iloc[i]['Semantic Retriever']\n",
    "    improvement = comparison_df.iloc[i]['Improvement']\n",
    "    \n",
    "    if semantic_score > naive_score:\n",
    "        winner = \"Semantic\"\n",
    "        symbol = \"📈\"\n",
    "    elif naive_score > semantic_score:\n",
    "        winner = \"Naive\"\n",
    "        symbol = \"📉\"\n",
    "    else:\n",
    "        winner = \"Tie\"\n",
    "        symbol = \"🔄\"\n",
    "    \n",
    "    metric_winners.append(winner)\n",
    "    print(f\"{symbol} {metric}: {winner} wins (Δ: {improvement:+.4f})\")\n",
    "\n",
    "print()\n",
    "\n",
    "# Performance insights\n",
    "print(\"PERFORMANCE INSIGHTS:\")\n",
    "print(\"-\" * 30)\n",
    "\n",
    "# Best performing metrics for each\n",
    "naive_best = comparison_df.loc[comparison_df['Naive Retriever'].idxmax(), 'Metric']\n",
    "semantic_best = comparison_df.loc[comparison_df['Semantic Retriever'].idxmax(), 'Metric']\n",
    "\n",
    "print(f\"• Naive Retriever excels at: {naive_best}\")\n",
    "print(f\"• Semantic Retriever excels at: {semantic_best}\")\n",
    "\n",
    "# Areas needing improvement\n",
    "naive_worst = comparison_df.loc[comparison_df['Naive Retriever'].idxmin(), 'Metric']\n",
    "semantic_worst = comparison_df.loc[comparison_df['Semantic Retriever'].idxmin(), 'Metric']\n",
    "\n",
    "print(f\"• Naive Retriever needs work on: {naive_worst}\")\n",
    "print(f\"• Semantic Retriever needs work on: {semantic_worst}\")\n",
    "\n",
    "print(\"\\nRECOMMENDations:\")\n",
    "print(\"-\" * 20)\n",
    "if semantic_avg > naive_avg:\n",
    "    print(\"✅ Use SEMANTIC retriever for production\")\n",
    "    print(\"✅ Focus on improving Context Precision/Recall\")\n",
    "else:\n",
    "    print(\"✅ Stick with NAIVE retriever for now\")\n",
    "    print(\"✅ Consider tuning semantic chunking parameters\")\n",
    "\n",
    "print(\"\\n\" + \"=\" * 60)"
   ]
  }
 ],
 "metadata": {
  "kernelspec": {
   "display_name": ".venv",
   "language": "python",
   "name": "python3"
  },
  "language_info": {
   "codemirror_mode": {
    "name": "ipython",
    "version": 3
   },
   "file_extension": ".py",
   "mimetype": "text/x-python",
   "name": "python",
   "nbconvert_exporter": "python",
   "pygments_lexer": "ipython3",
   "version": "3.12.11"
  }
 },
 "nbformat": 4,
 "nbformat_minor": 5
}
