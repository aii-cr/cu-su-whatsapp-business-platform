{
 "cells": [
  {
   "cell_type": "markdown",
   "id": "1b39395d",
   "metadata": {},
   "source": [
    "# 📘 Introducción a Machine Learning\n",
    "**Machine Learning** (Aprendizaje Automático) es una rama de la inteligencia artificial que permite que las computadoras aprendan de los datos sin ser programadas explícitamente.\n",
    "\n",
    "En este notebook, veremos:\n",
    "- Qué es Machine Learning\n",
    "- Tipos de aprendizaje\n",
    "- Un ejemplo práctico con `scikit-learn`\n",
    "- Entrenamiento y evaluación de un modelo básico"
   ]
  },
  {
   "cell_type": "markdown",
   "id": "7c69ce8c",
   "metadata": {},
   "source": [
    "## 🤖 ¿Qué es Machine Learning?\n",
    "Es una técnica para entrenar modelos a partir de datos. Por ejemplo, podemos entrenar un modelo que prediga si un correo es **spam** o **no spam** analizando correos ya clasificados."
   ]
  },
  {
   "cell_type": "markdown",
   "id": "33a427dc",
   "metadata": {},
   "source": [
    "## 📂 Tipos de Machine Learning\n",
    "1. **Aprendizaje Supervisado**: Tenemos datos de entrada y la respuesta correcta (etiquetas).\n",
    "2. **Aprendizaje No Supervisado**: Solo tenemos los datos, sin respuestas.\n",
    "3. **Aprendizaje por Refuerzo**: El algoritmo aprende tomando decisiones y recibiendo recompensas o castigos."
   ]
  },
  {
   "cell_type": "markdown",
   "id": "22e75b80",
   "metadata": {},
   "source": [
    "## 🧪 Ejemplo práctico: Clasificación con `scikit-learn`\n",
    "Vamos a entrenar un modelo que clasifique flores de iris en 3 tipos."
   ]
  },
  {
   "cell_type": "code",
   "execution_count": null,
   "id": "77f9fe0f",
   "metadata": {},
   "outputs": [],
   "source": [
    "# Paso 1: importar librerías\n",
    "from sklearn.datasets import load_iris\n",
    "from sklearn.model_selection import train_test_split\n",
    "from sklearn.ensemble import RandomForestClassifier\n",
    "from sklearn.metrics import accuracy_score"
   ]
  },
  {
   "cell_type": "code",
   "execution_count": null,
   "id": "27345e09",
   "metadata": {},
   "outputs": [],
   "source": [
    "# Paso 2: cargar dataset\n",
    "iris = load_iris()\n",
    "X = iris.data\n",
    "y = iris.target\n",
    "\n",
    "print('Características:', iris.feature_names)\n",
    "print('Clases:', iris.target_names)"
   ]
  },
  {
   "cell_type": "code",
   "execution_count": null,
   "id": "da99acae",
   "metadata": {},
   "outputs": [],
   "source": [
    "# Paso 3: dividir en datos de entrenamiento y prueba\n",
    "X_train, X_test, y_train, y_test = train_test_split(X, y, test_size=0.3, random_state=42)"
   ]
  },
  {
   "cell_type": "code",
   "execution_count": null,
   "id": "582022e1",
   "metadata": {},
   "outputs": [],
   "source": [
    "# Paso 4: crear y entrenar el modelo\n",
    "clf = RandomForestClassifier()\n",
    "clf.fit(X_train, y_train)"
   ]
  },
  {
   "cell_type": "code",
   "execution_count": null,
   "id": "0fbb07ca",
   "metadata": {},
   "outputs": [],
   "source": [
    "# Paso 5: hacer predicciones\n",
    "y_pred = clf.predict(X_test)\n",
    "print('Predicciones:', y_pred)"
   ]
  },
  {
   "cell_type": "code",
   "execution_count": null,
   "id": "f9299053",
   "metadata": {},
   "outputs": [],
   "source": [
    "# Paso 6: evaluar el modelo\n",
    "accuracy = accuracy_score(y_test, y_pred)\n",
    "print(f'Precisión del modelo: {accuracy * 100:.2f}%')"
   ]
  },
  {
   "cell_type": "markdown",
   "id": "63cb5a96",
   "metadata": {},
   "source": [
    "## ✅ Conclusión\n",
    "Entrenamos un modelo de clasificación usando Random Forest para predecir especies de flores iris.\n",
    "\n",
    "**¿Qué sigue?**\n",
    "- Probar otros modelos (SVM, KNN, etc)\n",
    "- Ajustar hiperparámetros\n",
    "- Usar validación cruzada y métricas más detalladas"
   ]
  }
 ],
 "metadata": {},
 "nbformat": 4,
 "nbformat_minor": 5
}